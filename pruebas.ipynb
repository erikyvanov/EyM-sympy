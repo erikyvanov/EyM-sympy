{
 "cells": [
  {
   "cell_type": "code",
   "execution_count": 7,
   "metadata": {},
   "outputs": [
    {
     "data": {
      "text/latex": [
       "$\\displaystyle (\\mathbf{{x}_{C}}^{2} \\mathbf{{y}_{C}})\\mathbf{\\hat{i}_{C}} + (- 3 \\mathbf{{x}_{C}} \\mathbf{{z}_{C}})\\mathbf{\\hat{j}_{C}} + (3 \\mathbf{{x}_{C}})\\mathbf{\\hat{k}_{C}}$"
      ],
      "text/plain": [
       "C.x**2*C.y*C.i + (-3*C.x*C.z)*C.j + 3*C.x*C.k"
      ]
     },
     "execution_count": 7,
     "metadata": {},
     "output_type": "execute_result"
    }
   ],
   "source": [
    "from sympy.vector import CoordSys3D, curl\n",
    "C = CoordSys3D('C')\n",
    "\n",
    "x = C.x\n",
    "y = C.y\n",
    "z = C.z\n",
    "\n",
    "f = (x**2*y)*C.i + (-3*x*z)*C.j + (3*x)*C.k\n",
    "f"
   ]
  },
  {
   "cell_type": "code",
   "execution_count": 8,
   "metadata": {},
   "outputs": [
    {
     "data": {
      "text/latex": [
       "$\\displaystyle (3 \\mathbf{{x}_{C}})\\mathbf{\\hat{i}_{C}} + (-3)\\mathbf{\\hat{j}_{C}} + (- \\mathbf{{x}_{C}}^{2} - 3 \\mathbf{{z}_{C}})\\mathbf{\\hat{k}_{C}}$"
      ],
      "text/plain": [
       "3*C.x*C.i + (-3)*C.j + (-C.x**2 - 3*C.z)*C.k"
      ]
     },
     "execution_count": 8,
     "metadata": {},
     "output_type": "execute_result"
    }
   ],
   "source": [
    "curl(f)"
   ]
  },
  {
   "cell_type": "code",
   "execution_count": 11,
   "metadata": {},
   "outputs": [
    {
     "data": {
      "text/latex": [
       "$\\displaystyle f{\\left(x \\right)} = C_{1} \\sin{\\left(x \\right)} + C_{2} \\cos{\\left(x \\right)}$"
      ],
      "text/plain": [
       "Eq(f(x), C1*sin(x) + C2*cos(x))"
      ]
     },
     "execution_count": 11,
     "metadata": {},
     "output_type": "execute_result"
    }
   ],
   "source": [
    "from sympy.abc import x \n",
    "from sympy import Function, dsolve, Derivative\n",
    "\n",
    "f = Function('f')\n",
    "dsolve(Derivative(f(x), x, x) + f(x))"
   ]
  },
  {
   "cell_type": "code",
   "execution_count": 12,
   "metadata": {},
   "outputs": [
    {
     "data": {
      "text/latex": [
       "$\\displaystyle (3 \\mathbf{{x}_{C}}^{2} \\mathbf{{y}_{C}})\\mathbf{\\hat{i}_{C}} + (\\mathbf{{x}_{C}} \\mathbf{{y}_{C}}^{3})\\mathbf{\\hat{j}_{C}}$"
      ],
      "text/plain": [
       "3*C.x**2*C.y*C.i + C.x*C.y**3*C.j"
      ]
     },
     "execution_count": 12,
     "metadata": {},
     "output_type": "execute_result"
    }
   ],
   "source": [
    "from sympy.vector import divergence\n",
    "\n",
    "x = C.x\n",
    "y = C.y\n",
    "z = C.z\n",
    "\n",
    "f = (3*x**2 * y)*C.i + (x*y**3)*C.j\n",
    "f"
   ]
  },
  {
   "cell_type": "code",
   "execution_count": 13,
   "metadata": {},
   "outputs": [
    {
     "data": {
      "text/latex": [
       "$\\displaystyle 3 \\mathbf{{x}_{C}} \\mathbf{{y}_{C}}^{2} + 6 \\mathbf{{x}_{C}} \\mathbf{{y}_{C}}$"
      ],
      "text/plain": [
       "3*C.x*C.y**2 + 6*C.x*C.y"
      ]
     },
     "execution_count": 13,
     "metadata": {},
     "output_type": "execute_result"
    }
   ],
   "source": [
    "divergence(f)"
   ]
  },
  {
   "cell_type": "code",
   "execution_count": null,
   "metadata": {},
   "outputs": [],
   "source": []
  }
 ],
 "metadata": {
  "interpreter": {
   "hash": "4ee8fccf1b91b16c3ceb7dad7504d1ede7c68a00d690c5afe8b46617fe103163"
  },
  "kernelspec": {
   "display_name": "Python 3.9.7 ('base')",
   "language": "python",
   "name": "python3"
  },
  "language_info": {
   "codemirror_mode": {
    "name": "ipython",
    "version": 3
   },
   "file_extension": ".py",
   "mimetype": "text/x-python",
   "name": "python",
   "nbconvert_exporter": "python",
   "pygments_lexer": "ipython3",
   "version": "3.9.7"
  },
  "orig_nbformat": 4
 },
 "nbformat": 4,
 "nbformat_minor": 2
}
