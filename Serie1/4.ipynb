{
 "cells": [
  {
   "cell_type": "code",
   "execution_count": 2,
   "metadata": {},
   "outputs": [],
   "source": [
    "from sympy.physics.units import meter, newton, coulomb\n",
    "from sympy.vector import CoordSys3D\n",
    "import scinot\n",
    "\n",
    "scinot.start()\n",
    "\n",
    "N = CoordSys3D('N')\n",
    "k = 9*10**9 * newton * meter**2 / coulomb**2"
   ]
  },
  {
   "cell_type": "markdown",
   "metadata": {},
   "source": [
    "<img src=\"img/4.png\"/>"
   ]
  },
  {
   "cell_type": "code",
   "execution_count": 3,
   "metadata": {},
   "outputs": [
    {
     "data": {
      "text/latex": [
       "$\\displaystyle 1.0 \\cdot 10^{-8} \\text{C}$"
      ],
      "text/plain": [
       "1.0e-8*coulomb"
      ]
     },
     "execution_count": 3,
     "metadata": {},
     "output_type": "execute_result"
    }
   ],
   "source": [
    "Q1 = 10 * 10**(-9) * coulomb\n",
    "Q1"
   ]
  },
  {
   "cell_type": "code",
   "execution_count": 4,
   "metadata": {},
   "outputs": [
    {
     "data": {
      "text/latex": [
       "$\\displaystyle (- 0.02 \\text{m})\\mathbf{\\hat{i}_{N}} + (0.02 \\text{m})\\mathbf{\\hat{j}_{N}}$"
      ],
      "text/plain": [
       "(-0.02*meter)*N.i + 0.02*meter*N.j"
      ]
     },
     "execution_count": 4,
     "metadata": {},
     "output_type": "execute_result"
    }
   ],
   "source": [
    "Q1_u = (-2*N.i + 2*N.j) * 10**(-2) * meter\n",
    "Q1_u"
   ]
  },
  {
   "cell_type": "code",
   "execution_count": 5,
   "metadata": {},
   "outputs": [
    {
     "data": {
      "text/latex": [
       "$\\displaystyle - 2.0 \\cdot 10^{-8} \\text{C}$"
      ],
      "text/plain": [
       "-2.0e-8*coulomb"
      ]
     },
     "execution_count": 5,
     "metadata": {},
     "output_type": "execute_result"
    }
   ],
   "source": [
    "Q2 = -20 * 10**(-9) * coulomb\n",
    "Q2"
   ]
  },
  {
   "cell_type": "code",
   "execution_count": 6,
   "metadata": {},
   "outputs": [
    {
     "data": {
      "text/latex": [
       "$\\displaystyle (- 0.02 \\text{m})\\mathbf{\\hat{j}_{N}}$"
      ],
      "text/plain": [
       "(-0.02*meter)*N.j"
      ]
     },
     "execution_count": 6,
     "metadata": {},
     "output_type": "execute_result"
    }
   ],
   "source": [
    "Q2_u = (0*N.i - 2*N.j) * 10**(-2) * meter\n",
    "Q2_u"
   ]
  },
  {
   "cell_type": "code",
   "execution_count": 7,
   "metadata": {},
   "outputs": [
    {
     "data": {
      "text/latex": [
       "$\\displaystyle (0.02 \\text{m})\\mathbf{\\hat{i}_{N}}$"
      ],
      "text/plain": [
       "0.02*meter*N.i"
      ]
     },
     "execution_count": 7,
     "metadata": {},
     "output_type": "execute_result"
    }
   ],
   "source": [
    "B = 2*N.i * meter * 10**(-2)\n",
    "B"
   ]
  },
  {
   "cell_type": "markdown",
   "metadata": {},
   "source": [
    "# A)"
   ]
  },
  {
   "cell_type": "code",
   "execution_count": 8,
   "metadata": {},
   "outputs": [
    {
     "data": {
      "text/latex": [
       "$\\displaystyle 0.0447213595499958 \\text{m}$"
      ],
      "text/plain": [
       "0.0447213595499958*meter"
      ]
     },
     "execution_count": 8,
     "metadata": {},
     "output_type": "execute_result"
    }
   ],
   "source": [
    "r1 = B - Q1_u\n",
    "r1.magnitude()"
   ]
  },
  {
   "cell_type": "code",
   "execution_count": 9,
   "metadata": {},
   "outputs": [
    {
     "data": {
      "text/latex": [
       "$\\displaystyle (\\frac{40249.2235949962 \\text{N}}{\\text{C}})\\mathbf{\\hat{i}_{N}} + (- \\frac{20124.6117974981 \\text{N}}{\\text{C}})\\mathbf{\\hat{j}_{N}}$"
      ],
      "text/plain": [
       "40249.2235949962*newton/coulomb*N.i + (-20124.6117974981*newton/coulomb)*N.j"
      ]
     },
     "execution_count": 9,
     "metadata": {},
     "output_type": "execute_result"
    }
   ],
   "source": [
    "E1 = k * Q1 / r1.magnitude()**2 * (r1/r1.magnitude())\n",
    "E1"
   ]
  },
  {
   "cell_type": "code",
   "execution_count": 10,
   "metadata": {},
   "outputs": [
    {
     "data": {
      "text/latex": [
       "$\\displaystyle (0.02 \\text{m})\\mathbf{\\hat{i}_{N}} + (0.02 \\text{m})\\mathbf{\\hat{j}_{N}}$"
      ],
      "text/plain": [
       "0.02*meter*N.i + 0.02*meter*N.j"
      ]
     },
     "execution_count": 10,
     "metadata": {},
     "output_type": "execute_result"
    }
   ],
   "source": [
    "r2 = B - Q2_u\n",
    "r2"
   ]
  },
  {
   "cell_type": "code",
   "execution_count": 11,
   "metadata": {},
   "outputs": [
    {
     "data": {
      "text/latex": [
       "$\\displaystyle 0.0282842712474619 \\text{m}$"
      ],
      "text/plain": [
       "0.0282842712474619*meter"
      ]
     },
     "execution_count": 11,
     "metadata": {},
     "output_type": "execute_result"
    }
   ],
   "source": [
    "r2.magnitude()"
   ]
  },
  {
   "cell_type": "code",
   "execution_count": 12,
   "metadata": {},
   "outputs": [
    {
     "data": {
      "text/latex": [
       "$\\displaystyle (- \\frac{159099.025766973 \\text{N}}{\\text{C}})\\mathbf{\\hat{i}_{N}} + (- \\frac{159099.025766973 \\text{N}}{\\text{C}})\\mathbf{\\hat{j}_{N}}$"
      ],
      "text/plain": [
       "(-159099.025766973*newton/coulomb)*N.i + (-159099.025766973*newton/coulomb)*N.j"
      ]
     },
     "execution_count": 12,
     "metadata": {},
     "output_type": "execute_result"
    }
   ],
   "source": [
    "E2 = k * Q2 / r2.magnitude()**2 * (r2/r2.magnitude())\n",
    "E2"
   ]
  },
  {
   "cell_type": "code",
   "execution_count": 14,
   "metadata": {},
   "outputs": [
    {
     "data": {
      "text/latex": [
       "$\\displaystyle (- \\frac{118849.802171977 \\text{N}}{\\text{C}})\\mathbf{\\hat{i}_{N}} + (- \\frac{179223.637564471 \\text{N}}{\\text{C}})\\mathbf{\\hat{j}_{N}}$"
      ],
      "text/plain": [
       "(-118849.802171977*newton/coulomb)*N.i + (-179223.637564471*newton/coulomb)*N.j"
      ]
     },
     "execution_count": 14,
     "metadata": {},
     "output_type": "execute_result"
    }
   ],
   "source": [
    "EB = E1 + E2\n",
    "EB"
   ]
  },
  {
   "cell_type": "code",
   "execution_count": 18,
   "metadata": {},
   "outputs": [
    {
     "data": {
      "text/latex": [
       "$\\displaystyle - \\frac{118849.802171977 \\text{N}}{\\text{C}}$"
      ],
      "text/plain": [
       "-118849.802171977*newton/coulomb"
      ]
     },
     "execution_count": 18,
     "metadata": {},
     "output_type": "execute_result"
    }
   ],
   "source": [
    "EB.components[N.i]"
   ]
  },
  {
   "cell_type": "code",
   "execution_count": null,
   "metadata": {},
   "outputs": [],
   "source": []
  }
 ],
 "metadata": {
  "interpreter": {
   "hash": "5dc98add9362633c78f256d17cf2fa232ed7c0ea4d489e75b6c174129bc88790"
  },
  "kernelspec": {
   "display_name": "Python 3.8.5 ('base')",
   "language": "python",
   "name": "python3"
  },
  "language_info": {
   "codemirror_mode": {
    "name": "ipython",
    "version": 3
   },
   "file_extension": ".py",
   "mimetype": "text/x-python",
   "name": "python",
   "nbconvert_exporter": "python",
   "pygments_lexer": "ipython3",
   "version": "3.8.5"
  },
  "orig_nbformat": 4
 },
 "nbformat": 4,
 "nbformat_minor": 2
}
