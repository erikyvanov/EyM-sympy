{
 "cells": [
  {
   "cell_type": "code",
   "execution_count": 41,
   "metadata": {},
   "outputs": [],
   "source": [
    "from sympy.physics.units import meter, newton, coulomb\n",
    "from sympy.vector import CoordSys3D\n",
    "\n",
    "N = CoordSys3D('N')"
   ]
  },
  {
   "cell_type": "markdown",
   "metadata": {},
   "source": [
    "<img src=\"img/3.png\">"
   ]
  },
  {
   "cell_type": "markdown",
   "metadata": {},
   "source": [
    "# A)"
   ]
  },
  {
   "cell_type": "code",
   "execution_count": 42,
   "metadata": {},
   "outputs": [
    {
     "data": {
      "text/latex": [
       "$\\displaystyle (0.02 \\text{m})\\mathbf{\\hat{i}_{N}} + (- 0.03 \\text{m})\\mathbf{\\hat{j}_{N}}$"
      ],
      "text/plain": [
       "0.02*meter*N.i + (-0.03*meter)*N.j"
      ]
     },
     "execution_count": 42,
     "metadata": {},
     "output_type": "execute_result"
    }
   ],
   "source": [
    "A = (2*N.i - 3*N.j) * meter * 10**(-2)\n",
    "A"
   ]
  },
  {
   "cell_type": "code",
   "execution_count": 43,
   "metadata": {},
   "outputs": [],
   "source": [
    "q_positive_u = (-2*N.i) * meter * 10**(-2)\n",
    "q_positive = 5 * 10**-9 *coulomb"
   ]
  },
  {
   "cell_type": "code",
   "execution_count": 44,
   "metadata": {},
   "outputs": [],
   "source": [
    "q_negative_u = (2*N.j) * meter * 10**(-2)\n",
    "q_negative = -5 * 10**-9 *coulomb"
   ]
  },
  {
   "cell_type": "code",
   "execution_count": 45,
   "metadata": {},
   "outputs": [
    {
     "data": {
      "text/latex": [
       "$\\displaystyle (0.02 \\text{m})\\mathbf{\\hat{i}_{N}} + (- 0.05 \\text{m})\\mathbf{\\hat{j}_{N}}$"
      ],
      "text/plain": [
       "0.02*meter*N.i + (-0.05*meter)*N.j"
      ]
     },
     "execution_count": 45,
     "metadata": {},
     "output_type": "execute_result"
    }
   ],
   "source": [
    "r1 = A - q_negative_u\n",
    "r1"
   ]
  },
  {
   "cell_type": "code",
   "execution_count": 46,
   "metadata": {},
   "outputs": [
    {
     "data": {
      "text/latex": [
       "$\\displaystyle (0.371390676354104)\\mathbf{\\hat{i}_{N}} + (-0.928476690885259)\\mathbf{\\hat{j}_{N}}$"
      ],
      "text/plain": [
       "0.371390676354104*N.i + (-0.928476690885259)*N.j"
      ]
     },
     "execution_count": 46,
     "metadata": {},
     "output_type": "execute_result"
    }
   ],
   "source": [
    "unit_r1 = r1 / r1.magnitude()\n",
    "unit_r1"
   ]
  },
  {
   "cell_type": "code",
   "execution_count": 47,
   "metadata": {},
   "outputs": [
    {
     "data": {
      "text/latex": [
       "$\\displaystyle (0.04 \\text{m})\\mathbf{\\hat{i}_{N}} + (- 0.03 \\text{m})\\mathbf{\\hat{j}_{N}}$"
      ],
      "text/plain": [
       "0.04*meter*N.i + (-0.03*meter)*N.j"
      ]
     },
     "execution_count": 47,
     "metadata": {},
     "output_type": "execute_result"
    }
   ],
   "source": [
    "r2 = A - q_positive_u\n",
    "r2"
   ]
  },
  {
   "cell_type": "code",
   "execution_count": 48,
   "metadata": {},
   "outputs": [
    {
     "data": {
      "text/latex": [
       "$\\displaystyle (0.8)\\mathbf{\\hat{i}_{N}} + (-0.6)\\mathbf{\\hat{j}_{N}}$"
      ],
      "text/plain": [
       "0.800000000000000*N.i + (-0.600000000000000)*N.j"
      ]
     },
     "execution_count": 48,
     "metadata": {},
     "output_type": "execute_result"
    }
   ],
   "source": [
    "unit_r2 = r2 / r2.magnitude()\n",
    "unit_r2"
   ]
  },
  {
   "cell_type": "code",
   "execution_count": 49,
   "metadata": {},
   "outputs": [
    {
     "data": {
      "text/latex": [
       "$\\displaystyle \\frac{9000000000 \\text{m}^{2} \\text{N}}{\\text{C}^{2}}$"
      ],
      "text/plain": [
       "9000000000*meter**2*newton/coulomb**2"
      ]
     },
     "execution_count": 49,
     "metadata": {},
     "output_type": "execute_result"
    }
   ],
   "source": [
    "k = 9*10**9 * newton * meter**2 / coulomb**2\n",
    "k"
   ]
  },
  {
   "cell_type": "code",
   "execution_count": 50,
   "metadata": {},
   "outputs": [
    {
     "data": {
      "text/latex": [
       "$\\displaystyle (\\frac{14400.0 \\text{N}}{\\text{C}})\\mathbf{\\hat{i}_{N}} + (- \\frac{10800.0 \\text{N}}{\\text{C}})\\mathbf{\\hat{j}_{N}}$"
      ],
      "text/plain": [
       "14400.0*newton/coulomb*N.i + (-10800.0*newton/coulomb)*N.j"
      ]
     },
     "execution_count": 50,
     "metadata": {},
     "output_type": "execute_result"
    }
   ],
   "source": [
    "E1 = k * (q_positive / r2.magnitude()**2) * unit_r2\n",
    "E1"
   ]
  },
  {
   "cell_type": "code",
   "execution_count": 51,
   "metadata": {},
   "outputs": [
    {
     "data": {
      "text/latex": [
       "$\\displaystyle (- \\frac{5762.95877101195 \\text{N}}{\\text{C}})\\mathbf{\\hat{i}_{N}} + (\\frac{14407.3969275299 \\text{N}}{\\text{C}})\\mathbf{\\hat{j}_{N}}$"
      ],
      "text/plain": [
       "(-5762.95877101195*newton/coulomb)*N.i + 14407.3969275299*newton/coulomb*N.j"
      ]
     },
     "execution_count": 51,
     "metadata": {},
     "output_type": "execute_result"
    }
   ],
   "source": [
    "E2 = k * (q_negative / r1.magnitude()**2) * unit_r1\n",
    "E2"
   ]
  },
  {
   "cell_type": "code",
   "execution_count": 52,
   "metadata": {},
   "outputs": [
    {
     "data": {
      "text/latex": [
       "$\\displaystyle (\\frac{8637.04122898805 \\text{N}}{\\text{C}})\\mathbf{\\hat{i}_{N}} + (\\frac{3607.39692752988 \\text{N}}{\\text{C}})\\mathbf{\\hat{j}_{N}}$"
      ],
      "text/plain": [
       "8637.04122898805*newton/coulomb*N.i + 3607.39692752988*newton/coulomb*N.j"
      ]
     },
     "execution_count": 52,
     "metadata": {},
     "output_type": "execute_result"
    }
   ],
   "source": [
    "electric_field_A = E1 + E2\n",
    "electric_field_A"
   ]
  },
  {
   "cell_type": "markdown",
   "metadata": {},
   "source": [
    "# B)"
   ]
  },
  {
   "cell_type": "code",
   "execution_count": 53,
   "metadata": {},
   "outputs": [
    {
     "data": {
      "text/latex": [
       "$\\displaystyle \\frac{1590.99025766973 \\text{m} \\text{N}}{\\text{C}}$"
      ],
      "text/plain": [
       "1590.99025766973*meter*newton/coulomb"
      ]
     },
     "execution_count": 53,
     "metadata": {},
     "output_type": "execute_result"
    }
   ],
   "source": [
    "Vq = k * q_positive / (q_negative_u - q_positive_u).magnitude()\n",
    "Vq"
   ]
  },
  {
   "cell_type": "code",
   "execution_count": 56,
   "metadata": {},
   "outputs": [
    {
     "data": {
      "text/latex": [
       "$\\displaystyle \\frac{900.0 \\text{m} \\text{N}}{\\text{C}}$"
      ],
      "text/plain": [
       "900.0*meter*newton/coulomb"
      ]
     },
     "execution_count": 56,
     "metadata": {},
     "output_type": "execute_result"
    }
   ],
   "source": [
    "VA = k * q_positive / (A - q_positive_u).magnitude()\n",
    "VA"
   ]
  },
  {
   "cell_type": "code",
   "execution_count": 55,
   "metadata": {},
   "outputs": [
    {
     "data": {
      "text/latex": [
       "$\\displaystyle - 3.45495128834866 \\cdot 10^{-6} \\text{m} \\text{N}$"
      ],
      "text/plain": [
       "-3.45495128834866e-6*meter*newton"
      ]
     },
     "execution_count": 55,
     "metadata": {},
     "output_type": "execute_result"
    }
   ],
   "source": [
    "W = q_negative * (Vq - VA)\n",
    "W"
   ]
  },
  {
   "cell_type": "code",
   "execution_count": 59,
   "metadata": {},
   "outputs": [
    {
     "data": {
      "text/latex": [
       "$\\displaystyle (0.04 \\text{m})\\mathbf{\\hat{i}_{N}} + (- 0.03 \\text{m})\\mathbf{\\hat{j}_{N}}$"
      ],
      "text/plain": [
       "0.04*meter*N.i + (-0.03*meter)*N.j"
      ]
     },
     "execution_count": 59,
     "metadata": {},
     "output_type": "execute_result"
    }
   ],
   "source": [
    "A - q_positive_u"
   ]
  },
  {
   "cell_type": "code",
   "execution_count": null,
   "metadata": {},
   "outputs": [],
   "source": []
  }
 ],
 "metadata": {
  "interpreter": {
   "hash": "5dc98add9362633c78f256d17cf2fa232ed7c0ea4d489e75b6c174129bc88790"
  },
  "kernelspec": {
   "display_name": "Python 3.8.5 ('base')",
   "language": "python",
   "name": "python3"
  },
  "language_info": {
   "codemirror_mode": {
    "name": "ipython",
    "version": 3
   },
   "file_extension": ".py",
   "mimetype": "text/x-python",
   "name": "python",
   "nbconvert_exporter": "python",
   "pygments_lexer": "ipython3",
   "version": "3.8.5"
  },
  "orig_nbformat": 4
 },
 "nbformat": 4,
 "nbformat_minor": 2
}
